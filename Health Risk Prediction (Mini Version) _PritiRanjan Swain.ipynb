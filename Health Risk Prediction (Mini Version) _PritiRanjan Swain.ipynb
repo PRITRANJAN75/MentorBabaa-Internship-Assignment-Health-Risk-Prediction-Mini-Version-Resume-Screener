{
 "cells": [
  {
   "cell_type": "markdown",
   "metadata": {},
   "source": [
    "# Assignment: Health Risk Prediction (Mini Version)\n",
    "Objective:Build a simple regression model to predict BMI based on lifestyle features using either PyTorch or TensorFlow."
   ]
  },
  {
   "cell_type": "markdown",
   "metadata": {},
   "source": [
    "## 0)SET UP"
   ]
  },
  {
   "cell_type": "code",
   "execution_count": 1,
   "metadata": {
    "scrolled": true
   },
   "outputs": [
    {
     "name": "stdout",
     "output_type": "stream",
     "text": [
      "Requirement already satisfied: torch in c:\\users\\prita\\anaconda3\\lib\\site-packages (2.8.0)\n",
      "Requirement already satisfied: scikit-learn in c:\\users\\prita\\anaconda3\\lib\\site-packages (1.6.1)\n",
      "Requirement already satisfied: pandas in c:\\users\\prita\\anaconda3\\lib\\site-packages (2.2.3)\n",
      "Requirement already satisfied: matplotlib in c:\\users\\prita\\anaconda3\\lib\\site-packages (3.10.0)\n",
      "Requirement already satisfied: filelock in c:\\users\\prita\\anaconda3\\lib\\site-packages (from torch) (3.17.0)\n",
      "Requirement already satisfied: typing-extensions>=4.10.0 in c:\\users\\prita\\anaconda3\\lib\\site-packages (from torch) (4.12.2)\n",
      "Requirement already satisfied: sympy>=1.13.3 in c:\\users\\prita\\anaconda3\\lib\\site-packages (from torch) (1.13.3)\n",
      "Requirement already satisfied: networkx in c:\\users\\prita\\anaconda3\\lib\\site-packages (from torch) (3.4.2)\n",
      "Requirement already satisfied: jinja2 in c:\\users\\prita\\anaconda3\\lib\\site-packages (from torch) (3.1.6)\n",
      "Requirement already satisfied: fsspec in c:\\users\\prita\\anaconda3\\lib\\site-packages (from torch) (2025.3.2)\n",
      "Requirement already satisfied: setuptools in c:\\users\\prita\\anaconda3\\lib\\site-packages (from torch) (72.1.0)\n",
      "Requirement already satisfied: numpy>=1.19.5 in c:\\users\\prita\\anaconda3\\lib\\site-packages (from scikit-learn) (2.1.3)\n",
      "Requirement already satisfied: scipy>=1.6.0 in c:\\users\\prita\\anaconda3\\lib\\site-packages (from scikit-learn) (1.15.3)\n",
      "Requirement already satisfied: joblib>=1.2.0 in c:\\users\\prita\\anaconda3\\lib\\site-packages (from scikit-learn) (1.4.2)\n",
      "Requirement already satisfied: threadpoolctl>=3.1.0 in c:\\users\\prita\\anaconda3\\lib\\site-packages (from scikit-learn) (3.5.0)\n",
      "Requirement already satisfied: python-dateutil>=2.8.2 in c:\\users\\prita\\anaconda3\\lib\\site-packages (from pandas) (2.9.0.post0)\n",
      "Requirement already satisfied: pytz>=2020.1 in c:\\users\\prita\\anaconda3\\lib\\site-packages (from pandas) (2024.1)\n",
      "Requirement already satisfied: tzdata>=2022.7 in c:\\users\\prita\\anaconda3\\lib\\site-packages (from pandas) (2025.2)\n",
      "Requirement already satisfied: contourpy>=1.0.1 in c:\\users\\prita\\anaconda3\\lib\\site-packages (from matplotlib) (1.3.1)\n",
      "Requirement already satisfied: cycler>=0.10 in c:\\users\\prita\\anaconda3\\lib\\site-packages (from matplotlib) (0.11.0)\n",
      "Requirement already satisfied: fonttools>=4.22.0 in c:\\users\\prita\\anaconda3\\lib\\site-packages (from matplotlib) (4.55.3)\n",
      "Requirement already satisfied: kiwisolver>=1.3.1 in c:\\users\\prita\\anaconda3\\lib\\site-packages (from matplotlib) (1.4.8)\n",
      "Requirement already satisfied: packaging>=20.0 in c:\\users\\prita\\anaconda3\\lib\\site-packages (from matplotlib) (24.2)\n",
      "Requirement already satisfied: pillow>=8 in c:\\users\\prita\\anaconda3\\lib\\site-packages (from matplotlib) (11.1.0)\n",
      "Requirement already satisfied: pyparsing>=2.3.1 in c:\\users\\prita\\anaconda3\\lib\\site-packages (from matplotlib) (3.2.0)\n",
      "Requirement already satisfied: six>=1.5 in c:\\users\\prita\\anaconda3\\lib\\site-packages (from python-dateutil>=2.8.2->pandas) (1.17.0)\n",
      "Requirement already satisfied: mpmath<1.4,>=1.1.0 in c:\\users\\prita\\anaconda3\\lib\\site-packages (from sympy>=1.13.3->torch) (1.3.0)\n",
      "Requirement already satisfied: MarkupSafe>=2.0 in c:\\users\\prita\\anaconda3\\lib\\site-packages (from jinja2->torch) (3.0.2)\n",
      "Note: you may need to restart the kernel to use updated packages.\n"
     ]
    }
   ],
   "source": [
    "pip install torch scikit-learn pandas matplotlib"
   ]
  },
  {
   "cell_type": "markdown",
   "metadata": {},
   "source": [
    " __Imports__"
   ]
  },
  {
   "cell_type": "code",
   "execution_count": null,
   "metadata": {},
   "outputs": [],
   "source": [
    "import pandas as pd\n",
    "import random, numpy as np, torch\n",
    "import matplotlib.pyplot as plt\n",
    "import numpy as np\n",
    "from sklearn.model_selection import train_test_split\n",
    "from sklearn.preprocessing import StandardScaler\n",
    "from torch import nn\n",
    "from sklearn.metrics import mean_squared_error, r2_score\n",
    "import pickle"
   ]
  },
  {
   "cell_type": "markdown",
   "metadata": {},
   "source": [
    " __Set random seeds (reproducibility)__"
   ]
  },
  {
   "cell_type": "code",
   "execution_count": null,
   "metadata": {
    "colab": {
     "base_uri": "https://localhost:8080/",
     "height": 1000
    },
    "id": "ryZHId6CSb-n",
    "outputId": "2cfc7829-1176-4343-eb67-219edfb0aa5b"
   },
   "outputs": [],
   "source": [
    "random.seed(42)\n",
    "np.random.seed(42)\n",
    "torch.manual_seed(42)"
   ]
  },
  {
   "cell_type": "markdown",
   "metadata": {},
   "source": [
    "## Step 1 – Dataset Generation **Create or upload the dataset**"
   ]
  },
  {
   "cell_type": "code",
   "execution_count": null,
   "metadata": {
    "colab": {
     "base_uri": "https://localhost:8080/",
     "height": 1000
    },
    "id": "ryZHId6CSb-n",
    "outputId": "2cfc7829-1176-4343-eb67-219edfb0aa5b",
    "scrolled": true
   },
   "outputs": [],
   "source": [
    "data = \"\"\"sleep_hours,daily_steps,calories,bmi\n",
    "8.0,9000,2200,22.0\n",
    "6.5,4000,2800,29.5\n",
    "7.0,7000,2400,25.0\n",
    "5.5,3000,3000,31.0\n",
    "9.0,12000,2000,20.5\n",
    "6.0,5000,2600,28.0\n",
    "7.5,8000,2100,23.5\n",
    "8.5,10000,1900,21.0\n",
    "6.8,3500,2700,30.0\n",
    "7.2,6500,2300,24.5\n",
    "5.0,2000,3200,34.0\n",
    "8.0,11000,1800,20.0\n",
    "\"\"\""
   ]
  },
  {
   "cell_type": "code",
   "execution_count": null,
   "metadata": {
    "colab": {
     "base_uri": "https://localhost:8080/",
     "height": 1000
    },
    "id": "ryZHId6CSb-n",
    "outputId": "2cfc7829-1176-4343-eb67-219edfb0aa5b",
    "scrolled": true
   },
   "outputs": [],
   "source": [
    "with open('health_dummy.csv', 'w') as f:\n",
    "    f.write(data)\n",
    "\n",
    "df = pd.read_csv('health_dummy.csv')\n",
    "df.head(12)\n",
    "df.info()\n",
    "df.describe()"
   ]
  },
  {
   "cell_type": "code",
   "execution_count": null,
   "metadata": {
    "colab": {
     "base_uri": "https://localhost:8080/",
     "height": 1000
    },
    "id": "ryZHId6CSb-n",
    "outputId": "2cfc7829-1176-4343-eb67-219edfb0aa5b",
    "scrolled": true
   },
   "outputs": [],
   "source": [
    "plt.scatter(df['daily_steps'], df['bmi'])\n",
    "plt.xlabel('daily_steps'); plt.ylabel('bmi'); plt.title('steps vs BMI'); plt.show()"
   ]
  },
  {
   "cell_type": "markdown",
   "metadata": {},
   "source": [
    "## Step 2 – Dataset Normalization(MinMaxScaler)__Prepare features, split and normalize__*Tip: always fit the scaler only on training data — otherwise you leak information.*"
   ]
  },
  {
   "cell_type": "code",
   "execution_count": null,
   "metadata": {
    "colab": {
     "base_uri": "https://localhost:8080/",
     "height": 1000
    },
    "id": "ryZHId6CSb-n",
    "outputId": "2cfc7829-1176-4343-eb67-219edfb0aa5b",
    "scrolled": true
   },
   "outputs": [],
   "source": [
    "X = df[['sleep_hours','daily_steps','calories']].values.astype(np.float32)\n",
    "y = df['bmi'].values.astype(np.float32).reshape(-1,1)\n",
    "\n",
    "X_train, X_test, y_train, y_test = train_test_split(X, y, test_size=0.2, random_state=42)\n",
    "\n",
    "scaler = StandardScaler()\n",
    "X_train_scaled = scaler.fit_transform(X_train)   # fit ON TRAIN only\n",
    "X_test_scaled  = scaler.transform(X_test)        # transform test using train stats"
   ]
  },
  {
   "cell_type": "markdown",
   "metadata": {},
   "source": [
    "__Convert arrays to PyTorch tensors__"
   ]
  },
  {
   "cell_type": "code",
   "execution_count": null,
   "metadata": {
    "colab": {
     "base_uri": "https://localhost:8080/",
     "height": 1000
    },
    "id": "ryZHId6CSb-n",
    "outputId": "2cfc7829-1176-4343-eb67-219edfb0aa5b",
    "scrolled": true
   },
   "outputs": [],
   "source": [
    "import torch\n",
    "X_train_t = torch.from_numpy(X_train_scaled).float()\n",
    "y_train_t = torch.from_numpy(y_train).float()\n",
    "X_test_t  = torch.from_numpy(X_test_scaled).float()\n",
    "y_test_t  = torch.from_numpy(y_test).float()"
   ]
  },
  {
   "cell_type": "markdown",
   "metadata": {},
   "source": [
    "## step 3 – Training Model (Build the simple linear regression model (PyTorch))"
   ]
  },
  {
   "cell_type": "code",
   "execution_count": null,
   "metadata": {
    "colab": {
     "base_uri": "https://localhost:8080/",
     "height": 1000
    },
    "id": "ryZHId6CSb-n",
    "outputId": "2cfc7829-1176-4343-eb67-219edfb0aa5b",
    "scrolled": true
   },
   "outputs": [],
   "source": [
    "from torch import nn\n",
    "\n",
    "model = nn.Linear(in_features=3, out_features=1)   # 3 inputs -> 1 output\n",
    "loss_fn = nn.MSELoss()\n",
    "optimizer = torch.optim.SGD(model.parameters(), lr=0.01)  # start with lr=0.01\n",
    "\n",
    "print(model)   # shows weight shape and bias"
   ]
  },
  {
   "cell_type": "markdown",
   "metadata": {},
   "source": [
    "__Training loop (train, track loss, plot)__*Tip: if loss diverges → reduce learning rate (e.g., 0.001) or switch optimizer to Adam.*"
   ]
  },
  {
   "cell_type": "code",
   "execution_count": null,
   "metadata": {
    "colab": {
     "base_uri": "https://localhost:8080/",
     "height": 1000
    },
    "id": "ryZHId6CSb-n",
    "outputId": "2cfc7829-1176-4343-eb67-219edfb0aa5b",
    "scrolled": true
   },
   "outputs": [],
   "source": [
    "epochs = 500\n",
    "loss_history = []\n",
    "\n",
    "for epoch in range(epochs):\n",
    "    model.train()\n",
    "    optimizer.zero_grad()\n",
    "    preds = model(X_train_t)\n",
    "    loss = loss_fn(preds, y_train_t)\n",
    "    loss.backward()\n",
    "    optimizer.step()\n",
    "    loss_history.append(loss.item())\n",
    "\n",
    "plt.plot(loss_history)\n",
    "plt.xlabel('Epoch'); plt.ylabel('MSE')\n",
    "plt.title('Training Loss')\n",
    "plt.grid(True)\n",
    "plt.show()\n",
    "\n",
    "print(\"Final training loss:\", loss_history[-1])"
   ]
  },
  {
   "cell_type": "markdown",
   "metadata": {},
   "source": [
    "## Step 4 – Evaluation \n",
    "### Evaluate on test set — MSE and R² .\n",
    "#### What they mean:\n",
    "\n",
    "**MSE: average squared error (lower = better)**\n",
    "\n",
    "**R²: proportion of variance explained (maximum 1.0; closer to 1 is better).**"
   ]
  },
  {
   "cell_type": "code",
   "execution_count": null,
   "metadata": {
    "colab": {
     "base_uri": "https://localhost:8080/",
     "height": 1000
    },
    "id": "ryZHId6CSb-n",
    "outputId": "2cfc7829-1176-4343-eb67-219edfb0aa5b",
    "scrolled": true
   },
   "outputs": [],
   "source": [
    "model.eval()\n",
    "with torch.no_grad():\n",
    "    preds_test = model(X_test_t).numpy().flatten()\n",
    "\n",
    "from sklearn.metrics import mean_squared_error, r2_score\n",
    "mse = mean_squared_error(y_test.flatten(), preds_test)\n",
    "r2  = r2_score(y_test.flatten(), preds_test)\n",
    "\n",
    "print(\"Test MSE:\", mse)\n",
    "print(\"Test R²:\", r2)"
   ]
  },
  {
   "cell_type": "markdown",
   "metadata": {},
   "source": [
    "## Step 5 – Prediction"
   ]
  },
  {
   "cell_type": "code",
   "execution_count": null,
   "metadata": {
    "colab": {
     "base_uri": "https://localhost:8080/",
     "height": 1000
    },
    "id": "ryZHId6CSb-n",
    "outputId": "2cfc7829-1176-4343-eb67-219edfb0aa5b",
    "scrolled": true
   },
   "outputs": [],
   "source": [
    "sample = np.array([[7.0, 7000.0, 2200.0]], dtype=np.float32)   # change values to test\n",
    "sample_scaled = scaler.transform(sample)\n",
    "sample_t = torch.from_numpy(sample_scaled).float()\n",
    "\n",
    "with torch.no_grad():\n",
    "    pred_bmi = model(sample_t).item()\n",
    "\n",
    "print(\"Predicted BMI for [7 h, 7000 steps, 2200 cal]:\", round(pred_bmi, 3))"
   ]
  },
  {
   "cell_type": "code",
   "execution_count": null,
   "metadata": {
    "colab": {
     "base_uri": "https://localhost:8080/",
     "height": 1000
    },
    "id": "ryZHId6CSb-n",
    "outputId": "2cfc7829-1176-4343-eb67-219edfb0aa5b",
    "scrolled": true
   },
   "outputs": [],
   "source": [
    "# Save model state_dict\n",
    "torch.save(model.state_dict(), 'health_bmi_model.pth')\n",
    "\n",
    "# Save scaler with pickle\n",
    "import pickle\n",
    "with open('health_bmi_scaler.pkl', 'wb') as f:\n",
    "    pickle.dump(scaler, f)\n",
    "\n",
    "# Save dataset CSV\n",
    "df.to_csv('health_dummy.csv', index=False)\n",
    "print(\"Saved model, scaler, and CSV to your Google Drive MyDrive folder.\")"
   ]
  },
  {
   "cell_type": "markdown",
   "metadata": {},
   "source": [
    "# A Short Summary of Results: Final Loss, Evaluation Metrics, and Example Predictions\n",
    "## Final Loss:\n",
    "_The final training loss is 0.1366 📉. This low value indicates that the model's predictions on the training data are very close to the actual values after 500 epochs of training. The training loss plot confirms this, showing a steep initial decrease and then plateauing as the model converges_. ✅\n",
    "\n",
    "## Evaluation Metrics:\n",
    "The model was evaluated on the unseen test dataset, yielding the following metrics:\n",
    "\n",
    "### Test MSE (Mean Squared Error): 1.1156 (lower is better)\n",
    "\n",
    "_Test R² (R-squared): 0.9583. This is an excellent score. The R² value, which ranges from 0 to 1, indicates that roughly 95.83% of the variance in the BMI can be explained by the input features (sleep hours, daily steps, and calories). A value this close to 1 suggests a strong linear relationship between the features and the BMI in this dataset_. 📈\n",
    "\n",
    "## Example Prediction:\n",
    "*For the specified example input of 7 hours of sleep, 7000 daily steps, and 2200 calories, the model's predicted BMI is 24.646 ✨. This value falls within the normal BMI range (18.5 to 24.9), which is a reasonable and expected outcome for the given inputs*. 🧑‍⚕️"
   ]
  }
 ],
 "metadata": {
  "colab": {
   "provenance": []
  },
  "kernelspec": {
   "display_name": "Python 3 (ipykernel)",
   "language": "python",
   "name": "python3"
  },
  "language_info": {
   "codemirror_mode": {
    "name": "ipython",
    "version": 3
   },
   "file_extension": ".py",
   "mimetype": "text/x-python",
   "name": "python",
   "nbconvert_exporter": "python",
   "pygments_lexer": "ipython3",
   "version": "3.13.5"
  }
 },
 "nbformat": 4,
 "nbformat_minor": 4
}
